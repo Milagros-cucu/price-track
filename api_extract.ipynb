{
 "cells": [
  {
   "cell_type": "code",
   "execution_count": null,
   "id": "1d2749a2",
   "metadata": {
    "scrolled": true
   },
   "outputs": [],
   "source": [
    "# pip install yfinance\n",
    "# pip install yahoo_fin\n",
    "# pip install selenium\n",
    "# pip install requests_html"
   ]
  },
  {
   "cell_type": "code",
   "execution_count": 1,
   "id": "1fd8f886",
   "metadata": {
    "scrolled": true
   },
   "outputs": [
    {
     "name": "stderr",
     "output_type": "stream",
     "text": [
      "c:\\Users\\zbrv6c\\Anaconda3\\lib\\site-packages\\pandas\\core\\computation\\expressions.py:21: UserWarning: Pandas requires version '2.8.4' or newer of 'numexpr' (version '2.8.3' currently installed).\n",
      "  from pandas.core.computation.check import NUMEXPR_INSTALLED\n",
      "c:\\Users\\zbrv6c\\Anaconda3\\lib\\site-packages\\pandas\\core\\arrays\\masked.py:60: UserWarning: Pandas requires version '1.3.6' or newer of 'bottleneck' (version '1.3.5' currently installed).\n",
      "  from pandas.core import (\n"
     ]
    },
    {
     "name": "stdout",
     "output_type": "stream",
     "text": [
      "                                  Open         High          Low        Close  \\\n",
      "Date                                                                            \n",
      "2020-02-10 00:00:00-05:00  2271.699951  2271.699951  2271.699951  2271.699951   \n",
      "2020-02-11 00:00:00-05:00  2287.600098  2287.600098  2287.600098  2287.600098   \n",
      "2020-02-12 00:00:00-05:00  2344.399902  2344.399902  2344.399902  2344.399902   \n",
      "2020-02-13 00:00:00-05:00  2372.899902  2372.899902  2372.899902  2372.899902   \n",
      "2020-02-14 00:00:00-05:00  2338.600098  2338.600098  2338.600098  2338.600098   \n",
      "...                                ...          ...          ...          ...   \n",
      "2025-02-04 00:00:00-05:00  1027.000000  1030.000000  1009.700012  1009.700012   \n",
      "2025-02-05 00:00:00-05:00  1014.400024  1014.400024  1014.400024  1014.400024   \n",
      "2025-02-06 00:00:00-05:00   989.299988   989.299988   989.299988   989.299988   \n",
      "2025-02-07 00:00:00-05:00   977.799988   977.799988   977.799988   977.799988   \n",
      "2025-02-10 00:00:00-05:00   981.500000  1015.500000   974.500000  1007.000000   \n",
      "\n",
      "                           Volume  Dividends  Stock Splits  \n",
      "Date                                                        \n",
      "2020-02-10 00:00:00-05:00       0        0.0           0.0  \n",
      "2020-02-11 00:00:00-05:00       0        0.0           0.0  \n",
      "2020-02-12 00:00:00-05:00       0        0.0           0.0  \n",
      "2020-02-13 00:00:00-05:00       0        0.0           0.0  \n",
      "2020-02-14 00:00:00-05:00       0        0.0           0.0  \n",
      "...                           ...        ...           ...  \n",
      "2025-02-04 00:00:00-05:00       9        0.0           0.0  \n",
      "2025-02-05 00:00:00-05:00       0        0.0           0.0  \n",
      "2025-02-06 00:00:00-05:00       0        0.0           0.0  \n",
      "2025-02-07 00:00:00-05:00       0        0.0           0.0  \n",
      "2025-02-10 00:00:00-05:00    6210        0.0           0.0  \n",
      "\n",
      "[1259 rows x 7 columns]\n"
     ]
    }
   ],
   "source": [
    "import yfinance as yf\n",
    "import pandas as pd\n",
    "\n",
    "ticker = yf.Ticker('PA=F')\n",
    "todays_data = ticker.history(period='5y')\n",
    "\n",
    "print(todays_data)"
   ]
  },
  {
   "cell_type": "code",
   "execution_count": 2,
   "id": "71745308",
   "metadata": {},
   "outputs": [],
   "source": [
    "from selenium import webdriver\n",
    "from selenium.webdriver.common.keys import Keys\n",
    "from selenium.webdriver.support.ui import Select\n",
    "from selenium.webdriver.support.ui import WebDriverWait\n",
    "from selenium.webdriver.common.by import By\n",
    "from selenium.webdriver.support import expected_conditions as EC\n",
    "import pandas as pd\n",
    "import time"
   ]
  },
  {
   "cell_type": "code",
   "execution_count": 4,
   "id": "cf5c1162",
   "metadata": {},
   "outputs": [
    {
     "name": "stdout",
     "output_type": "stream",
     "text": [
      "Requirement already satisfied: requests_html in c:\\users\\zbrv6c\\documents\\vs_code_jupyter\\my_virtual_env\\lib\\site-packages (0.10.0)\n",
      "Requirement already satisfied: requests in c:\\users\\zbrv6c\\documents\\vs_code_jupyter\\my_virtual_env\\lib\\site-packages (from requests_html) (2.32.3)\n",
      "Requirement already satisfied: pyquery in c:\\users\\zbrv6c\\documents\\vs_code_jupyter\\my_virtual_env\\lib\\site-packages (from requests_html) (2.0.1)\n",
      "Requirement already satisfied: fake-useragent in c:\\users\\zbrv6c\\documents\\vs_code_jupyter\\my_virtual_env\\lib\\site-packages (from requests_html) (2.0.3)\n",
      "Requirement already satisfied: parse in c:\\users\\zbrv6c\\documents\\vs_code_jupyter\\my_virtual_env\\lib\\site-packages (from requests_html) (1.20.2)\n",
      "Requirement already satisfied: bs4 in c:\\users\\zbrv6c\\documents\\vs_code_jupyter\\my_virtual_env\\lib\\site-packages (from requests_html) (0.0.2)\n",
      "Requirement already satisfied: w3lib in c:\\users\\zbrv6c\\documents\\vs_code_jupyter\\my_virtual_env\\lib\\site-packages (from requests_html) (2.2.1)\n",
      "Requirement already satisfied: pyppeteer>=0.0.14 in c:\\users\\zbrv6c\\documents\\vs_code_jupyter\\my_virtual_env\\lib\\site-packages (from requests_html) (2.0.0)\n",
      "Requirement already satisfied: appdirs<2.0.0,>=1.4.3 in c:\\users\\zbrv6c\\documents\\vs_code_jupyter\\my_virtual_env\\lib\\site-packages (from pyppeteer>=0.0.14->requests_html) (1.4.4)\n",
      "Requirement already satisfied: certifi>=2023 in c:\\users\\zbrv6c\\documents\\vs_code_jupyter\\my_virtual_env\\lib\\site-packages (from pyppeteer>=0.0.14->requests_html) (2024.8.30)\n",
      "Requirement already satisfied: importlib-metadata>=1.4 in c:\\users\\zbrv6c\\documents\\vs_code_jupyter\\my_virtual_env\\lib\\site-packages (from pyppeteer>=0.0.14->requests_html) (8.5.0)\n",
      "Requirement already satisfied: pyee<12.0.0,>=11.0.0 in c:\\users\\zbrv6c\\documents\\vs_code_jupyter\\my_virtual_env\\lib\\site-packages (from pyppeteer>=0.0.14->requests_html) (11.1.1)\n",
      "Requirement already satisfied: tqdm<5.0.0,>=4.42.1 in c:\\users\\zbrv6c\\documents\\vs_code_jupyter\\my_virtual_env\\lib\\site-packages (from pyppeteer>=0.0.14->requests_html) (4.67.1)\n",
      "Requirement already satisfied: urllib3<2.0.0,>=1.25.8 in c:\\users\\zbrv6c\\documents\\vs_code_jupyter\\my_virtual_env\\lib\\site-packages (from pyppeteer>=0.0.14->requests_html) (1.26.20)\n",
      "Requirement already satisfied: websockets<11.0,>=10.0 in c:\\users\\zbrv6c\\documents\\vs_code_jupyter\\my_virtual_env\\lib\\site-packages (from pyppeteer>=0.0.14->requests_html) (10.4)\n",
      "Requirement already satisfied: beautifulsoup4 in c:\\users\\zbrv6c\\documents\\vs_code_jupyter\\my_virtual_env\\lib\\site-packages (from bs4->requests_html) (4.12.3)\n",
      "Requirement already satisfied: lxml>=2.1 in c:\\users\\zbrv6c\\documents\\vs_code_jupyter\\my_virtual_env\\lib\\site-packages (from pyquery->requests_html) (5.3.0)\n",
      "Requirement already satisfied: cssselect>=1.2.0 in c:\\users\\zbrv6c\\documents\\vs_code_jupyter\\my_virtual_env\\lib\\site-packages (from pyquery->requests_html) (1.2.0)\n",
      "Requirement already satisfied: charset-normalizer<4,>=2 in c:\\users\\zbrv6c\\documents\\vs_code_jupyter\\my_virtual_env\\lib\\site-packages (from requests->requests_html) (3.3.2)\n",
      "Requirement already satisfied: idna<4,>=2.5 in c:\\users\\zbrv6c\\documents\\vs_code_jupyter\\my_virtual_env\\lib\\site-packages (from requests->requests_html) (2.6)\n",
      "Requirement already satisfied: zipp>=3.20 in c:\\users\\zbrv6c\\documents\\vs_code_jupyter\\my_virtual_env\\lib\\site-packages (from importlib-metadata>=1.4->pyppeteer>=0.0.14->requests_html) (3.21.0)\n",
      "Requirement already satisfied: typing-extensions in c:\\users\\zbrv6c\\documents\\vs_code_jupyter\\my_virtual_env\\lib\\site-packages (from pyee<12.0.0,>=11.0.0->pyppeteer>=0.0.14->requests_html) (4.12.2)\n",
      "Requirement already satisfied: colorama in c:\\users\\zbrv6c\\documents\\vs_code_jupyter\\my_virtual_env\\lib\\site-packages (from tqdm<5.0.0,>=4.42.1->pyppeteer>=0.0.14->requests_html) (0.4.6)\n",
      "Requirement already satisfied: soupsieve>1.2 in c:\\users\\zbrv6c\\documents\\vs_code_jupyter\\my_virtual_env\\lib\\site-packages (from beautifulsoup4->bs4->requests_html) (2.6)\n",
      "Note: you may need to restart the kernel to use updated packages.\n"
     ]
    },
    {
     "name": "stderr",
     "output_type": "stream",
     "text": [
      "\n",
      "[notice] A new release of pip is available: 24.2 -> 24.3.1\n",
      "[notice] To update, run: python.exe -m pip install --upgrade pip\n"
     ]
    }
   ],
   "source": [
    " pip install requests_html"
   ]
  },
  {
   "cell_type": "code",
   "execution_count": 3,
   "id": "c51e60f6",
   "metadata": {
    "scrolled": false
   },
   "outputs": [
    {
     "name": "stdout",
     "output_type": "stream",
     "text": [
      "CL=F Crude Oil\n"
     ]
    },
    {
     "name": "stderr",
     "output_type": "stream",
     "text": [
      "C:\\Users\\zbrv6c\\AppData\\Local\\Temp\\ipykernel_28080\\3548332220.py:27: FutureWarning: 'M' is deprecated and will be removed in a future version, please use 'ME' instead.\n",
      "  avg_series = df['close'].resample('M').mean().round(2)\n",
      "C:\\Users\\zbrv6c\\AppData\\Local\\Temp\\ipykernel_28080\\3548332220.py:27: FutureWarning: 'M' is deprecated and will be removed in a future version, please use 'ME' instead.\n",
      "  avg_series = df['close'].resample('M').mean().round(2)\n"
     ]
    },
    {
     "name": "stdout",
     "output_type": "stream",
     "text": [
      "SI=F Silver\n",
      "PA=F Palladium\n"
     ]
    },
    {
     "name": "stderr",
     "output_type": "stream",
     "text": [
      "C:\\Users\\zbrv6c\\AppData\\Local\\Temp\\ipykernel_28080\\3548332220.py:27: FutureWarning: 'M' is deprecated and will be removed in a future version, please use 'ME' instead.\n",
      "  avg_series = df['close'].resample('M').mean().round(2)\n",
      "C:\\Users\\zbrv6c\\AppData\\Local\\Temp\\ipykernel_28080\\3548332220.py:27: FutureWarning: 'M' is deprecated and will be removed in a future version, please use 'ME' instead.\n",
      "  avg_series = df['close'].resample('M').mean().round(2)\n"
     ]
    },
    {
     "name": "stdout",
     "output_type": "stream",
     "text": [
      "GC=F Gold\n",
      "HG=F Copper\n"
     ]
    },
    {
     "name": "stderr",
     "output_type": "stream",
     "text": [
      "C:\\Users\\zbrv6c\\AppData\\Local\\Temp\\ipykernel_28080\\3548332220.py:27: FutureWarning: 'M' is deprecated and will be removed in a future version, please use 'ME' instead.\n",
      "  avg_series = df['close'].resample('M').mean().round(2)\n",
      "C:\\Users\\zbrv6c\\AppData\\Local\\Temp\\ipykernel_28080\\3548332220.py:27: FutureWarning: 'M' is deprecated and will be removed in a future version, please use 'ME' instead.\n",
      "  avg_series = df['close'].resample('M').mean().round(2)\n"
     ]
    },
    {
     "name": "stdout",
     "output_type": "stream",
     "text": [
      "PL=F Platinum\n",
      "USDCNY=X CNY\n"
     ]
    },
    {
     "name": "stderr",
     "output_type": "stream",
     "text": [
      "C:\\Users\\zbrv6c\\AppData\\Local\\Temp\\ipykernel_28080\\3548332220.py:27: FutureWarning: 'M' is deprecated and will be removed in a future version, please use 'ME' instead.\n",
      "  avg_series = df['close'].resample('M').mean().round(2)\n",
      "C:\\Users\\zbrv6c\\AppData\\Local\\Temp\\ipykernel_28080\\3548332220.py:27: FutureWarning: 'M' is deprecated and will be removed in a future version, please use 'ME' instead.\n",
      "  avg_series = df['close'].resample('M').mean().round(2)\n"
     ]
    },
    {
     "name": "stdout",
     "output_type": "stream",
     "text": [
      "USDJPY=X JPY\n",
      "USDMYR=X MYR\n"
     ]
    },
    {
     "name": "stderr",
     "output_type": "stream",
     "text": [
      "C:\\Users\\zbrv6c\\AppData\\Local\\Temp\\ipykernel_28080\\3548332220.py:27: FutureWarning: 'M' is deprecated and will be removed in a future version, please use 'ME' instead.\n",
      "  avg_series = df['close'].resample('M').mean().round(2)\n",
      "C:\\Users\\zbrv6c\\AppData\\Local\\Temp\\ipykernel_28080\\3548332220.py:27: FutureWarning: 'M' is deprecated and will be removed in a future version, please use 'ME' instead.\n",
      "  avg_series = df['close'].resample('M').mean().round(2)\n"
     ]
    },
    {
     "name": "stdout",
     "output_type": "stream",
     "text": [
      "USDTWD=X TWD\n",
      "USDEUR=X EUR\n"
     ]
    },
    {
     "name": "stderr",
     "output_type": "stream",
     "text": [
      "C:\\Users\\zbrv6c\\AppData\\Local\\Temp\\ipykernel_28080\\3548332220.py:27: FutureWarning: 'M' is deprecated and will be removed in a future version, please use 'ME' instead.\n",
      "  avg_series = df['close'].resample('M').mean().round(2)\n"
     ]
    }
   ],
   "source": [
    "# Crude Oil - CL=F\n",
    "# Silver - SI=F\n",
    "# Platinum - PL=F\n",
    "# Gold - GC=F\n",
    "# Copper - HG=F\n",
    "\n",
    "# China-USDCNY=X\n",
    "# Japan-USDJPY=X\n",
    "# Malaysia - USDMYR=X\n",
    "# Taiwan - USDTWD=X\n",
    "# EUR - USDEUR=X\n",
    "from datetime import date\n",
    "from yahoo_fin.stock_info import get_data\n",
    "date.today()\n",
    "\n",
    "dates = []\n",
    "price = []\n",
    "symbolL = []\n",
    "\n",
    "tickers = [\"CL=F\", \"SI=F\", \"PA=F\", \"GC=F\", \"HG=F\", \"PL=F\", \"USDCNY=X\", \"USDJPY=X\", \"USDMYR=X\", \"USDTWD=X\", \"USDEUR=X\"]\n",
    "symbols = [\"Crude Oil\", \"Silver\", \"Palladium\", \"Gold\", \"Copper\",\"Platinum\",\"CNY\", \"JPY\", \"MYR\", \"TWD\", \"EUR\"]\n",
    "for i in range(len(tickers)):\n",
    "    ticker = tickers[i]\n",
    "    symbol = symbols[i]\n",
    "    print(ticker +  ' ' + symbol)\n",
    "    df = get_data(ticker, start_date=\"01/01/2019\", end_date=str(date.today()), index_as_date = True)\n",
    "    avg_series = df['close'].resample('M').mean().round(2)\n",
    "    dates.extend(avg_series.index.tolist())\n",
    "    price.extend(avg_series.tolist())\n",
    "    symbolL.extend([symbol] * len(avg_series))"
   ]
  },
  {
   "cell_type": "code",
   "execution_count": 4,
   "id": "da114d62",
   "metadata": {},
   "outputs": [
    {
     "name": "stderr",
     "output_type": "stream",
     "text": [
      "C:\\Users\\zbrv6c\\AppData\\Local\\Temp\\ipykernel_28080\\1968208844.py:6: FutureWarning: Passing literal html to 'read_html' is deprecated and will be removed in a future version. To read from a literal string, wrap it in a 'StringIO' object.\n",
      "  ni_df = pd.read_html(ni_table[0].get_attribute(\"outerHTML\"))[0]\n"
     ]
    },
    {
     "data": {
      "text/html": [
       "<div>\n",
       "<style scoped>\n",
       "    .dataframe tbody tr th:only-of-type {\n",
       "        vertical-align: middle;\n",
       "    }\n",
       "\n",
       "    .dataframe tbody tr th {\n",
       "        vertical-align: top;\n",
       "    }\n",
       "\n",
       "    .dataframe thead th {\n",
       "        text-align: right;\n",
       "    }\n",
       "</style>\n",
       "<table border=\"1\" class=\"dataframe\">\n",
       "  <thead>\n",
       "    <tr style=\"text-align: right;\">\n",
       "      <th></th>\n",
       "      <th>Year</th>\n",
       "      <th>Month</th>\n",
       "      <th>Value</th>\n",
       "    </tr>\n",
       "  </thead>\n",
       "  <tbody>\n",
       "    <tr>\n",
       "      <th>0</th>\n",
       "      <td>2024</td>\n",
       "      <td>December</td>\n",
       "      <td>15442.3</td>\n",
       "    </tr>\n",
       "    <tr>\n",
       "      <th>1</th>\n",
       "      <td>2024</td>\n",
       "      <td>November</td>\n",
       "      <td>15733.6</td>\n",
       "    </tr>\n",
       "    <tr>\n",
       "      <th>2</th>\n",
       "      <td>2024</td>\n",
       "      <td>October</td>\n",
       "      <td>16794.6</td>\n",
       "    </tr>\n",
       "    <tr>\n",
       "      <th>3</th>\n",
       "      <td>2024</td>\n",
       "      <td>September</td>\n",
       "      <td>16108.8</td>\n",
       "    </tr>\n",
       "    <tr>\n",
       "      <th>4</th>\n",
       "      <td>2024</td>\n",
       "      <td>August</td>\n",
       "      <td>16249.5</td>\n",
       "    </tr>\n",
       "    <tr>\n",
       "      <th>...</th>\n",
       "      <td>...</td>\n",
       "      <td>...</td>\n",
       "      <td>...</td>\n",
       "    </tr>\n",
       "    <tr>\n",
       "      <th>415</th>\n",
       "      <td>1990</td>\n",
       "      <td>May</td>\n",
       "      <td>8657.5</td>\n",
       "    </tr>\n",
       "    <tr>\n",
       "      <th>416</th>\n",
       "      <td>1990</td>\n",
       "      <td>April</td>\n",
       "      <td>8872.5</td>\n",
       "    </tr>\n",
       "    <tr>\n",
       "      <th>417</th>\n",
       "      <td>1990</td>\n",
       "      <td>March</td>\n",
       "      <td>9215.3</td>\n",
       "    </tr>\n",
       "    <tr>\n",
       "      <th>418</th>\n",
       "      <td>1990</td>\n",
       "      <td>February</td>\n",
       "      <td>6938.2</td>\n",
       "    </tr>\n",
       "    <tr>\n",
       "      <th>419</th>\n",
       "      <td>1990</td>\n",
       "      <td>January</td>\n",
       "      <td>7067.9</td>\n",
       "    </tr>\n",
       "  </tbody>\n",
       "</table>\n",
       "<p>420 rows × 3 columns</p>\n",
       "</div>"
      ],
      "text/plain": [
       "     Year      Month    Value\n",
       "0    2024   December  15442.3\n",
       "1    2024   November  15733.6\n",
       "2    2024    October  16794.6\n",
       "3    2024  September  16108.8\n",
       "4    2024     August  16249.5\n",
       "..    ...        ...      ...\n",
       "415  1990        May   8657.5\n",
       "416  1990      April   8872.5\n",
       "417  1990      March   9215.3\n",
       "418  1990   February   6938.2\n",
       "419  1990    January   7067.9\n",
       "\n",
       "[420 rows x 3 columns]"
      ]
     },
     "execution_count": 4,
     "metadata": {},
     "output_type": "execute_result"
    }
   ],
   "source": [
    "# Get the Nickle LME Price from website https://www.insee.fr/en/statistiques/serie/010002060#Tableau\n",
    "driverNi = webdriver.Chrome()\n",
    "driverNi.get('https://www.insee.fr/en/statistiques/serie/010002060#Tableau')\n",
    "time.sleep(10)\n",
    "ni_table = driverNi.find_elements(\"xpath\",\"//div [@class='tableau']\")\n",
    "ni_df = pd.read_html(ni_table[0].get_attribute(\"outerHTML\"))[0]\n",
    "ni_df"
   ]
  },
  {
   "cell_type": "code",
   "execution_count": 5,
   "id": "c08cd393",
   "metadata": {},
   "outputs": [],
   "source": [
    "ni_df = ni_df[ni_df['Year'] > 2018]"
   ]
  },
  {
   "cell_type": "code",
   "execution_count": 6,
   "id": "c22cdd48",
   "metadata": {
    "scrolled": true
   },
   "outputs": [
    {
     "name": "stdout",
     "output_type": "stream",
     "text": [
      "      Value last_date_of_month\n",
      "0   11449.3         2019-01-31\n",
      "1   12643.2         2019-02-28\n",
      "2   13051.9         2019-03-31\n",
      "3   12811.2         2019-04-30\n",
      "4   11991.9         2019-05-31\n",
      "..      ...                ...\n",
      "67  16249.5         2024-08-31\n",
      "68  16108.8         2024-09-30\n",
      "69  16794.6         2024-10-31\n",
      "70  15733.6         2024-11-30\n",
      "71  15442.3         2024-12-31\n",
      "\n",
      "[72 rows x 2 columns]\n"
     ]
    },
    {
     "name": "stderr",
     "output_type": "stream",
     "text": [
      "C:\\Users\\zbrv6c\\AppData\\Local\\Temp\\ipykernel_28080\\1265472865.py:6: SettingWithCopyWarning: \n",
      "A value is trying to be set on a copy of a slice from a DataFrame.\n",
      "Try using .loc[row_indexer,col_indexer] = value instead\n",
      "\n",
      "See the caveats in the documentation: https://pandas.pydata.org/pandas-docs/stable/user_guide/indexing.html#returning-a-view-versus-a-copy\n",
      "  ni_df['date_str'] = ni_df['Year'].astype(str) + '-' + ni_df['Month']\n",
      "C:\\Users\\zbrv6c\\AppData\\Local\\Temp\\ipykernel_28080\\1265472865.py:7: SettingWithCopyWarning: \n",
      "A value is trying to be set on a copy of a slice from a DataFrame.\n",
      "Try using .loc[row_indexer,col_indexer] = value instead\n",
      "\n",
      "See the caveats in the documentation: https://pandas.pydata.org/pandas-docs/stable/user_guide/indexing.html#returning-a-view-versus-a-copy\n",
      "  ni_df['date'] = pd.to_datetime(ni_df['date_str'], format='%Y-%B')\n",
      "C:\\Users\\zbrv6c\\AppData\\Local\\Temp\\ipykernel_28080\\1265472865.py:10: SettingWithCopyWarning: \n",
      "A value is trying to be set on a copy of a slice from a DataFrame.\n",
      "Try using .loc[row_indexer,col_indexer] = value instead\n",
      "\n",
      "See the caveats in the documentation: https://pandas.pydata.org/pandas-docs/stable/user_guide/indexing.html#returning-a-view-versus-a-copy\n",
      "  ni_df['last_date_of_month'] = ni_df['date'] + pd.offsets.MonthEnd(1)\n",
      "C:\\Users\\zbrv6c\\AppData\\Local\\Temp\\ipykernel_28080\\1265472865.py:13: SettingWithCopyWarning: \n",
      "A value is trying to be set on a copy of a slice from a DataFrame\n",
      "\n",
      "See the caveats in the documentation: https://pandas.pydata.org/pandas-docs/stable/user_guide/indexing.html#returning-a-view-versus-a-copy\n",
      "  ni_df.drop(columns=['date_str','Year', 'Month', 'date'], inplace=True)\n"
     ]
    }
   ],
   "source": [
    "# Define a function to convert month name to month number\n",
    "def month_name_to_num(month_name):\n",
    "    return pd.to_datetime(month_name, format='%B').month\n",
    "\n",
    "# Combine 'year' and 'month' columns into a single string column\n",
    "ni_df['date_str'] = ni_df['Year'].astype(str) + '-' + ni_df['Month']\n",
    "ni_df['date'] = pd.to_datetime(ni_df['date_str'], format='%Y-%B')\n",
    "\n",
    "# # Get the last date of each month\n",
    "ni_df['last_date_of_month'] = ni_df['date'] + pd.offsets.MonthEnd(1)\n",
    "\n",
    "# # Drop the intermediate string column\n",
    "ni_df.drop(columns=['date_str','Year', 'Month', 'date'], inplace=True)\n",
    "ni_df = ni_df.iloc[::-1].reset_index(drop=True)\n",
    "# # Print the resulting DataFrame\n",
    "print(ni_df)"
   ]
  },
  {
   "cell_type": "code",
   "execution_count": 7,
   "id": "31ef1b19",
   "metadata": {
    "scrolled": true
   },
   "outputs": [],
   "source": [
    "dates.extend(ni_df['last_date_of_month'].tolist())\n",
    "price.extend(ni_df['Value'].tolist())\n",
    "symbolL.extend(['Nickle'] * ni_df.shape[0])"
   ]
  },
  {
   "cell_type": "code",
   "execution_count": 8,
   "id": "dbdd19c5",
   "metadata": {
    "scrolled": true
   },
   "outputs": [
    {
     "data": {
      "text/html": [
       "<div>\n",
       "<style scoped>\n",
       "    .dataframe tbody tr th:only-of-type {\n",
       "        vertical-align: middle;\n",
       "    }\n",
       "\n",
       "    .dataframe tbody tr th {\n",
       "        vertical-align: top;\n",
       "    }\n",
       "\n",
       "    .dataframe thead th {\n",
       "        text-align: right;\n",
       "    }\n",
       "</style>\n",
       "<table border=\"1\" class=\"dataframe\">\n",
       "  <thead>\n",
       "    <tr style=\"text-align: right;\">\n",
       "      <th></th>\n",
       "      <th>Dates</th>\n",
       "      <th>Price</th>\n",
       "      <th>Symbol</th>\n",
       "    </tr>\n",
       "  </thead>\n",
       "  <tbody>\n",
       "    <tr>\n",
       "      <th>0</th>\n",
       "      <td>2019-01-31</td>\n",
       "      <td>51.55</td>\n",
       "      <td>Crude Oil</td>\n",
       "    </tr>\n",
       "    <tr>\n",
       "      <th>1</th>\n",
       "      <td>2019-02-28</td>\n",
       "      <td>54.98</td>\n",
       "      <td>Crude Oil</td>\n",
       "    </tr>\n",
       "    <tr>\n",
       "      <th>2</th>\n",
       "      <td>2019-03-31</td>\n",
       "      <td>58.17</td>\n",
       "      <td>Crude Oil</td>\n",
       "    </tr>\n",
       "    <tr>\n",
       "      <th>3</th>\n",
       "      <td>2019-04-30</td>\n",
       "      <td>63.87</td>\n",
       "      <td>Crude Oil</td>\n",
       "    </tr>\n",
       "    <tr>\n",
       "      <th>4</th>\n",
       "      <td>2019-05-31</td>\n",
       "      <td>60.87</td>\n",
       "      <td>Crude Oil</td>\n",
       "    </tr>\n",
       "    <tr>\n",
       "      <th>...</th>\n",
       "      <td>...</td>\n",
       "      <td>...</td>\n",
       "      <td>...</td>\n",
       "    </tr>\n",
       "    <tr>\n",
       "      <th>881</th>\n",
       "      <td>2024-08-31</td>\n",
       "      <td>16249.50</td>\n",
       "      <td>Nickle</td>\n",
       "    </tr>\n",
       "    <tr>\n",
       "      <th>882</th>\n",
       "      <td>2024-09-30</td>\n",
       "      <td>16108.80</td>\n",
       "      <td>Nickle</td>\n",
       "    </tr>\n",
       "    <tr>\n",
       "      <th>883</th>\n",
       "      <td>2024-10-31</td>\n",
       "      <td>16794.60</td>\n",
       "      <td>Nickle</td>\n",
       "    </tr>\n",
       "    <tr>\n",
       "      <th>884</th>\n",
       "      <td>2024-11-30</td>\n",
       "      <td>15733.60</td>\n",
       "      <td>Nickle</td>\n",
       "    </tr>\n",
       "    <tr>\n",
       "      <th>885</th>\n",
       "      <td>2024-12-31</td>\n",
       "      <td>15442.30</td>\n",
       "      <td>Nickle</td>\n",
       "    </tr>\n",
       "  </tbody>\n",
       "</table>\n",
       "<p>886 rows × 3 columns</p>\n",
       "</div>"
      ],
      "text/plain": [
       "         Dates     Price     Symbol\n",
       "0   2019-01-31     51.55  Crude Oil\n",
       "1   2019-02-28     54.98  Crude Oil\n",
       "2   2019-03-31     58.17  Crude Oil\n",
       "3   2019-04-30     63.87  Crude Oil\n",
       "4   2019-05-31     60.87  Crude Oil\n",
       "..         ...       ...        ...\n",
       "881 2024-08-31  16249.50     Nickle\n",
       "882 2024-09-30  16108.80     Nickle\n",
       "883 2024-10-31  16794.60     Nickle\n",
       "884 2024-11-30  15733.60     Nickle\n",
       "885 2024-12-31  15442.30     Nickle\n",
       "\n",
       "[886 rows x 3 columns]"
      ]
     },
     "execution_count": 8,
     "metadata": {},
     "output_type": "execute_result"
    }
   ],
   "source": [
    "df = pd.DataFrame({'Dates': dates, 'Price': price, 'Symbol': symbolL})\n",
    "df"
   ]
  },
  {
   "cell_type": "code",
   "execution_count": 9,
   "id": "50b97bc5",
   "metadata": {},
   "outputs": [],
   "source": [
    "quarter_avg = []\n",
    "n = df.shape[0]\n",
    "first_year = df['Dates'][0].year\n",
    "for i in range(n):\n",
    "    month = df['Dates'][i].month\n",
    "    year = df['Dates'][i].year\n",
    "    if year == first_year and month == 1:\n",
    "        avg = None\n",
    "    elif year == first_year and month == 4:\n",
    "        avg = round(sum(df['Price'][i-3:i-1])/len(df['Price'][i-3:i-1]), 3)\n",
    "    elif month in [4, 7, 10, 1]:\n",
    "        avg = round(sum(df['Price'][i-4:i-1])/len(df['Price'][i-4:i-1]), 3)\n",
    "    else:\n",
    "        avg = None   \n",
    "    quarter_avg.append(avg)\n",
    "df['Quaterly Baseline'] = quarter_avg"
   ]
  },
  {
   "cell_type": "code",
   "execution_count": 10,
   "id": "e86bfefc",
   "metadata": {},
   "outputs": [
    {
     "data": {
      "text/html": [
       "<div>\n",
       "<style scoped>\n",
       "    .dataframe tbody tr th:only-of-type {\n",
       "        vertical-align: middle;\n",
       "    }\n",
       "\n",
       "    .dataframe tbody tr th {\n",
       "        vertical-align: top;\n",
       "    }\n",
       "\n",
       "    .dataframe thead th {\n",
       "        text-align: right;\n",
       "    }\n",
       "</style>\n",
       "<table border=\"1\" class=\"dataframe\">\n",
       "  <thead>\n",
       "    <tr style=\"text-align: right;\">\n",
       "      <th></th>\n",
       "      <th>Dates</th>\n",
       "      <th>Price</th>\n",
       "      <th>Symbol</th>\n",
       "      <th>Quaterly Baseline</th>\n",
       "    </tr>\n",
       "  </thead>\n",
       "  <tbody>\n",
       "    <tr>\n",
       "      <th>0</th>\n",
       "      <td>2019-01-31</td>\n",
       "      <td>51.55</td>\n",
       "      <td>Crude Oil</td>\n",
       "      <td>NaN</td>\n",
       "    </tr>\n",
       "    <tr>\n",
       "      <th>1</th>\n",
       "      <td>2019-02-28</td>\n",
       "      <td>54.98</td>\n",
       "      <td>Crude Oil</td>\n",
       "      <td>NaN</td>\n",
       "    </tr>\n",
       "    <tr>\n",
       "      <th>2</th>\n",
       "      <td>2019-03-31</td>\n",
       "      <td>58.17</td>\n",
       "      <td>Crude Oil</td>\n",
       "      <td>NaN</td>\n",
       "    </tr>\n",
       "    <tr>\n",
       "      <th>3</th>\n",
       "      <td>2019-04-30</td>\n",
       "      <td>63.87</td>\n",
       "      <td>Crude Oil</td>\n",
       "      <td>53.265</td>\n",
       "    </tr>\n",
       "    <tr>\n",
       "      <th>4</th>\n",
       "      <td>2019-05-31</td>\n",
       "      <td>60.87</td>\n",
       "      <td>Crude Oil</td>\n",
       "      <td>NaN</td>\n",
       "    </tr>\n",
       "    <tr>\n",
       "      <th>...</th>\n",
       "      <td>...</td>\n",
       "      <td>...</td>\n",
       "      <td>...</td>\n",
       "      <td>...</td>\n",
       "    </tr>\n",
       "    <tr>\n",
       "      <th>881</th>\n",
       "      <td>2024-08-31</td>\n",
       "      <td>16249.50</td>\n",
       "      <td>Nickle</td>\n",
       "      <td>NaN</td>\n",
       "    </tr>\n",
       "    <tr>\n",
       "      <th>882</th>\n",
       "      <td>2024-09-30</td>\n",
       "      <td>16108.80</td>\n",
       "      <td>Nickle</td>\n",
       "      <td>NaN</td>\n",
       "    </tr>\n",
       "    <tr>\n",
       "      <th>883</th>\n",
       "      <td>2024-10-31</td>\n",
       "      <td>16794.60</td>\n",
       "      <td>Nickle</td>\n",
       "      <td>16711.100</td>\n",
       "    </tr>\n",
       "    <tr>\n",
       "      <th>884</th>\n",
       "      <td>2024-11-30</td>\n",
       "      <td>15733.60</td>\n",
       "      <td>Nickle</td>\n",
       "      <td>NaN</td>\n",
       "    </tr>\n",
       "    <tr>\n",
       "      <th>885</th>\n",
       "      <td>2024-12-31</td>\n",
       "      <td>15442.30</td>\n",
       "      <td>Nickle</td>\n",
       "      <td>NaN</td>\n",
       "    </tr>\n",
       "  </tbody>\n",
       "</table>\n",
       "<p>886 rows × 4 columns</p>\n",
       "</div>"
      ],
      "text/plain": [
       "         Dates     Price     Symbol  Quaterly Baseline\n",
       "0   2019-01-31     51.55  Crude Oil                NaN\n",
       "1   2019-02-28     54.98  Crude Oil                NaN\n",
       "2   2019-03-31     58.17  Crude Oil                NaN\n",
       "3   2019-04-30     63.87  Crude Oil             53.265\n",
       "4   2019-05-31     60.87  Crude Oil                NaN\n",
       "..         ...       ...        ...                ...\n",
       "881 2024-08-31  16249.50     Nickle                NaN\n",
       "882 2024-09-30  16108.80     Nickle                NaN\n",
       "883 2024-10-31  16794.60     Nickle          16711.100\n",
       "884 2024-11-30  15733.60     Nickle                NaN\n",
       "885 2024-12-31  15442.30     Nickle                NaN\n",
       "\n",
       "[886 rows x 4 columns]"
      ]
     },
     "execution_count": 10,
     "metadata": {},
     "output_type": "execute_result"
    }
   ],
   "source": [
    "df"
   ]
  },
  {
   "cell_type": "code",
   "execution_count": 11,
   "id": "e9e56f82",
   "metadata": {},
   "outputs": [
    {
     "name": "stderr",
     "output_type": "stream",
     "text": [
      "C:\\Users\\zbrv6c\\AppData\\Local\\Temp\\ipykernel_28080\\4045806659.py:1: UserWarning: Pandas requires version '3.0.5' or newer of 'xlsxwriter' (version '3.0.3' currently installed).\n",
      "  df.to_excel('materialXrate.xlsx', index=False)\n"
     ]
    }
   ],
   "source": [
    "df.to_excel('materialXrate.xlsx', index=False)"
   ]
  }
 ],
 "metadata": {
  "kernelspec": {
   "display_name": "base",
   "language": "python",
   "name": "python3"
  },
  "language_info": {
   "codemirror_mode": {
    "name": "ipython",
    "version": 3
   },
   "file_extension": ".py",
   "mimetype": "text/x-python",
   "name": "python",
   "nbconvert_exporter": "python",
   "pygments_lexer": "ipython3",
   "version": "3.9.13"
  }
 },
 "nbformat": 4,
 "nbformat_minor": 5
}
